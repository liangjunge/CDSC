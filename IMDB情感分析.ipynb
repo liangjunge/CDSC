{
 "cells": [
  {
   "cell_type": "code",
   "execution_count": 3,
   "metadata": {},
   "outputs": [
    {
     "name": "stderr",
     "output_type": "stream",
     "text": [
      "0% [##############################] 100% | ETA: 00:00:00\n",
      "Total time elapsed: 00:03:18\n"
     ]
    }
   ],
   "source": [
    "# -*- coding: utf-8 -*-\n",
    "import pyprind\n",
    "#一个进度条和一个百分比指示器对象\n",
    "import pandas as pd\n",
    "import os\n",
    "from nltk.corpus import stopwords\n",
    "import re\n",
    "import numpy as np\n",
    "\n",
    "\n",
    "stop = stopwords.words('english')\n",
    "\n",
    "\n",
    "def tokenizer(text):\n",
    "    text = re.sub('<[^>]*>', '', text)\n",
    "    #和replace相似 替换\n",
    "    emoticons = re.findall('(?::|;|=)(?:-)?(?:\\)|\\(|D|P)', text.lower())\n",
    "    text = re.sub('[\\W]+', ' ', text.lower()) +\\\n",
    "        ' '.join(emoticons).replace('-', '')\n",
    "    tokenized = [w for w in text.split() if w not in stop]\n",
    "    return tokenized\n",
    "\n",
    "\n",
    "basepath = 'aclImdb'\n",
    "\n",
    "labels = {'pos': 1, 'neg': 0}\n",
    "pbar = pyprind.ProgBar(50000)\n",
    "df = pd.DataFrame()\n",
    "for s in ('test', 'train'):\n",
    "    for l in ('pos', 'neg'):\n",
    "        path = os.path.join(basepath, s, l)\n",
    "        for file in os.listdir(path):\n",
    "            with open(os.path.join(path, file), 'r', encoding='utf-8') as infile:\n",
    "                txt = infile.read()\n",
    "                token = tokenizer(text=txt)\n",
    "            df = df.append([[labels[l],token ]], ignore_index=True)\n",
    "            pbar.update()\n",
    "df.columns = ['sentiment', 'review']\n",
    "np.random.seed(0)\n",
    "df = df.reindex(np.random.permutation(df.index))\n",
    "df.to_csv('movie_data.csv')"
   ]
  },
  {
   "cell_type": "code",
   "execution_count": 6,
   "metadata": {},
   "outputs": [
    {
     "name": "stderr",
     "output_type": "stream",
     "text": [
      "0% [###############               ] 100% | ETA: 00:00:11"
     ]
    },
    {
     "name": "stdout",
     "output_type": "stream",
     "text": [
      "vocabulary building finished, start training...\n"
     ]
    },
    {
     "name": "stderr",
     "output_type": "stream",
     "text": [
      "0% [##############################] 100% | ETA: 00:00:00\n",
      "Total time elapsed: 00:00:29\n"
     ]
    }
   ],
   "source": [
    "import pyprind\n",
    "import gensim.models\n",
    "import re\n",
    "\n",
    "inpath = 'movie_data.csv'\n",
    "outpath = 'wordVectTrainResult.bin'\n",
    "pbar = pyprind.ProgBar(100000)\n",
    "class csvStream(object):\n",
    "    def __init__(self,path):\n",
    "        self.path=path\n",
    "    def __iter__(self):\n",
    "        with open(self.path, 'r',) as csv:\n",
    "            next(csv)  # skip header\n",
    "            for line in csv:\n",
    "                text = line[4:-3]\n",
    "                text = re.sub('[\\'\\\"\\[\\]\\d\\b]','',text)   \n",
    "                while (text[0] == ',') or (text[0] == ' '):\n",
    "                    text = text[1:]\n",
    "                pbar.update()\n",
    "                yield text.split(', ')\n",
    "\n",
    "\n",
    "lineIterator = csvStream(inpath)\n",
    "model = gensim.models.Word2Vec()\n",
    "model.build_vocab(lineIterator)\n",
    "print('vocabulary building finished, start training...')\n",
    "model.train(lineIterator,total_examples=model.corpus_count,epochs=1)\n",
    "model.save(outpath)"
   ]
  },
  {
   "cell_type": "code",
   "execution_count": 5,
   "metadata": {},
   "outputs": [
    {
     "name": "stderr",
     "output_type": "stream",
     "text": [
      "D:\\Anaconda3\\lib\\site-packages\\gensim\\utils.py:1197: UserWarning: detected Windows; aliasing chunkize to chunkize_serial\n",
      "  warnings.warn(\"detected Windows; aliasing chunkize to chunkize_serial\")\n",
      "D:\\Anaconda3\\lib\\site-packages\\ipykernel_launcher.py:69: DeprecationWarning: Call to deprecated `__getitem__` (Method will be removed in 4.0.0, use self.wv.__getitem__() instead).\n",
      "D:\\Anaconda3\\lib\\site-packages\\ipykernel_launcher.py:83: DeprecationWarning: Call to deprecated `__getitem__` (Method will be removed in 4.0.0, use self.wv.__getitem__() instead).\n",
      "0% [#####################] 100% | ETA: 00:00:00\n",
      "Total time elapsed: 00:25:08\n"
     ]
    },
    {
     "data": {
      "image/png": "[encoded data removed]",
      "text/plain": [
       "<matplotlib.figure.Figure at 0x14991e4e128>"
      ]
     },
     "metadata": {},
     "output_type": "display_data"
    }
   ],
   "source": [
    "# -*- coding: utf-8 -*-\n",
    "# load the trained word2vec model\n",
    "import gensim.models\n",
    "\n",
    "inpath = 'wordVectTrainResult'\n",
    "model = gensim.models.Word2Vec.load(inpath)\n",
    "\n",
    "# start with the IMDB data\n",
    "import re\n",
    "from nltk.corpus import stopwords\n",
    "from sklearn.linear_model import SGDClassifier\n",
    "import pyprind\n",
    "import numpy as np\n",
    "import matplotlib.pyplot as plt\n",
    "\n",
    "stop = stopwords.words('english')\n",
    "# BatchNum*BatchSize must smaller than 50000\n",
    "BatchSize = 1000\n",
    "\n",
    "def tokenizer(text):\n",
    "    text = re.sub('<[^>]*>', '', text)\n",
    "    emoticons = re.findall('(?::|;|=)(?:-)?(?:\\)|\\(|D|P)', text.lower())\n",
    "    text = re.sub('[\\W]+', ' ', text.lower()) +\\\n",
    "        ' '.join(emoticons).replace('-', '')\n",
    "    tokenized = [w for w in text.split() if w not in stop]\n",
    "    return tokenized\n",
    "\n",
    "\n",
    "def stream_docs(path):\n",
    "    with open(path, 'r') as csv:\n",
    "        next(csv)  # skip header\n",
    "        for line in csv:\n",
    "            text, label = line[4:-3], int(line[-2])\n",
    "            text = re.sub('[\\'\\\"\\[\\]\\d\\b]','',text)\n",
    "            while text[0] == ',':\n",
    "                    text = text[1:]\n",
    "            yield text.split(', '), label\n",
    "\n",
    "\n",
    "def get_minibatch(doc_stream, size):\n",
    "    docs, y = [], []\n",
    "    try:\n",
    "        for _ in range(size):\n",
    "            text, label = next(doc_stream)\n",
    "            docs.append(text)\n",
    "            y.append(label)\n",
    "    except StopIteration:\n",
    "        return None, None\n",
    "    return docs, y\n",
    "\n",
    "\n",
    "clf = SGDClassifier(loss='log', random_state=1, n_iter=1)\n",
    "ACC = []\n",
    "\n",
    "classes = np.array([0, 1])\n",
    "pbar = pyprind.ProgBar(21)\n",
    "\n",
    "for BatchNum in range(25,46): \n",
    "    doc_stream = stream_docs(path='movie_data.csv') \n",
    "    for _ in range(BatchNum):\n",
    "        X_train = []\n",
    "        X_raw, y_train = get_minibatch(doc_stream, size=BatchSize)\n",
    "        if not X_raw:\n",
    "            break\n",
    "        for line in X_raw:\n",
    "            wordAveVec = np.zeros([100])\n",
    "            abandon = 0\n",
    "            try:\n",
    "                for word in line:\n",
    "                    wordAveVec = wordAveVec + model[word]\n",
    "            except KeyError:\n",
    "                abandon+=1\n",
    "            wordAveVec = wordAveVec/(len(line) - abandon)\n",
    "            X_train.append(wordAveVec)    \n",
    "        clf.partial_fit(X_train, y_train, classes=classes)        \n",
    "\n",
    "    X_raw_test, y_test = get_minibatch(doc_stream, size=(50000-BatchNum*BatchSize))\n",
    "    X_test = []\n",
    "    for line in X_raw_test:\n",
    "            wordAveVec = np.zeros([100])\n",
    "            abandon = 0\n",
    "            try:\n",
    "                for word in line:\n",
    "                    wordAveVec = wordAveVec + model[word]\n",
    "            except KeyError:\n",
    "                abandon+=1\n",
    "            wordAveVec = wordAveVec/(len(line) - abandon)\n",
    "            X_test.append(wordAveVec)\n",
    "    ACC.append(clf.score(X_test,y_test))\n",
    "    pbar.update()\n",
    "x = range(25,46)\n",
    "plt.plot(x, ACC)\n",
    "plt.xlabel('BatchNum')\n",
    "plt.ylabel('Accuracy')\n",
    "plt.grid()\n",
    "plt.show()  "
   ]
  },
  {
   "cell_type": "code",
   "execution_count": null,
   "metadata": {
    "collapsed": true
   },
   "outputs": [],
   "source": []
  }
 ],
 "metadata": {
  "kernelspec": {
   "display_name": "Python 3",
   "language": "python",
   "name": "python3"
  },
  "language_info": {
   "codemirror_mode": {
    "name": "ipython",
    "version": 3
   },
   "file_extension": ".py",
   "mimetype": "text/x-python",
   "name": "python",
   "nbconvert_exporter": "python",
   "pygments_lexer": "ipython3",
   "version": "3.6.1"
  }
 },
 "nbformat": 4,
 "nbformat_minor": 2
}
