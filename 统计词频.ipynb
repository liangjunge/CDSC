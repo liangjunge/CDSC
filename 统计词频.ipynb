{
 "cells": [
  {
   "cell_type": "code",
   "execution_count": 1,
   "metadata": {},
   "outputs": [
    {
     "name": "stderr",
     "output_type": "stream",
     "text": [
      "D:\\Anaconda3\\lib\\site-packages\\ipykernel_launcher.py:2: ParserWarning: Falling back to the 'python' engine because the 'c' engine does not support regex separators (separators > 1 char and different from '\\s+' are interpreted as regex); you can avoid this warning by specifying engine='python'.\n",
      "  \n",
      "D:\\Anaconda3\\lib\\site-packages\\ipykernel_launcher.py:5: ParserWarning: Falling back to the 'python' engine because the 'c' engine does not support regex separators (separators > 1 char and different from '\\s+' are interpreted as regex); you can avoid this warning by specifying engine='python'.\n",
      "  \"\"\"\n"
     ]
    }
   ],
   "source": [
    "import pandas as pd\n",
    "com = pd.read_csv('computer.txt','utf-8')\n",
    "com = com.dropna()\n",
    "com= com.values.tolist()\n",
    "sci = pd.read_csv('science.txt','utf-8')\n",
    "sci = sci.dropna()\n",
    "sci = sci.values.tolist()"
   ]
  },
  {
   "cell_type": "code",
   "execution_count": 2,
   "metadata": {},
   "outputs": [
    {
     "name": "stdout",
     "output_type": "stream",
     "text": [
      "[]\n"
     ]
    }
   ],
   "source": [
    "common=[]\n",
    "for line in com:\n",
    "    if line in sci:\n",
    "        common.append(line)\n",
    "        \n",
    "        #line = str(line)\n",
    "        \n",
    "print(common)\n"
   ]
  },
  {
   "cell_type": "code",
   "execution_count": 236,
   "metadata": {
    "collapsed": true
   },
   "outputs": [],
   "source": [
    "#dic = {}\n",
    "#for each in common:\n",
    "    #dic.update(each,each.keys)"
   ]
  },
  {
   "cell_type": "code",
   "execution_count": 3,
   "metadata": {},
   "outputs": [
    {
     "data": {
      "text/plain": [
       "Counter({'adress': 1,\n",
       "         'advance': 1,\n",
       "         'analog': 2,\n",
       "         'andrea': 1,\n",
       "         'answer': 1,\n",
       "         'arranged': 1,\n",
       "         'available': 1,\n",
       "         'better': 1,\n",
       "         'bit': 2,\n",
       "         'board': 4,\n",
       "         'content': 1,\n",
       "         'converter': 2,\n",
       "         'device': 1,\n",
       "         'digital': 1,\n",
       "         'directly': 1,\n",
       "         'email': 1,\n",
       "         'equivalent': 1,\n",
       "         'faster': 1,\n",
       "         'friend': 1,\n",
       "         'gentleman': 1,\n",
       "         'germany': 1,\n",
       "         'hannover': 1,\n",
       "         'hansch': 1,\n",
       "         'heinbokel': 1,\n",
       "         'hello': 1,\n",
       "         'help': 1,\n",
       "         'higher': 1,\n",
       "         'highspeed': 2,\n",
       "         'ikph': 1,\n",
       "         'interleave': 2,\n",
       "         'isa': 1,\n",
       "         'lady': 1,\n",
       "         'looking': 1,\n",
       "         'mail': 1,\n",
       "         'matthia': 1,\n",
       "         'mhz': 1,\n",
       "         'mine': 1,\n",
       "         'mode': 2,\n",
       "         'non': 1,\n",
       "         'please': 2,\n",
       "         'print': 1,\n",
       "         'rate': 3,\n",
       "         'resolution': 1,\n",
       "         'sampling': 4,\n",
       "         'send': 2,\n",
       "         'shirt': 1,\n",
       "         'similar': 1,\n",
       "         'sincerely': 1,\n",
       "         'slot': 1,\n",
       "         'specification': 1,\n",
       "         'thanks': 1,\n",
       "         'time': 2,\n",
       "         'university': 1,\n",
       "         'wisdom': 1,\n",
       "         'yield': 1})"
      ]
     },
     "execution_count": 3,
     "metadata": {},
     "output_type": "execute_result"
    }
   ],
   "source": [
    "import collections  \n",
    "def get_words(file):  \n",
    "    with open (file) as f:  \n",
    "        words_box=[]  \n",
    "        for line in f:                           \n",
    "            #if re.match(r'[a-zA-Z0-9]*',line):#避免中文影响  \n",
    "                words_box.extend(line.strip().split())                 \n",
    "    return collections.Counter(words_box)  \n",
    "get_words('st.txt')\n"
   ]
  },
  {
   "cell_type": "code",
   "execution_count": 4,
   "metadata": {
    "collapsed": true
   },
   "outputs": [],
   "source": [
    "dic = {}\n",
    "dic = get_words('st.txt')"
   ]
  },
  {
   "cell_type": "code",
   "execution_count": 5,
   "metadata": {},
   "outputs": [
    {
     "data": {
      "text/plain": [
       "Counter({'adress': 1,\n",
       "         'advance': 1,\n",
       "         'analog': 2,\n",
       "         'andrea': 1,\n",
       "         'answer': 1,\n",
       "         'arranged': 1,\n",
       "         'available': 1,\n",
       "         'better': 1,\n",
       "         'bit': 2,\n",
       "         'board': 4,\n",
       "         'content': 1,\n",
       "         'converter': 2,\n",
       "         'device': 1,\n",
       "         'digital': 1,\n",
       "         'directly': 1,\n",
       "         'email': 1,\n",
       "         'equivalent': 1,\n",
       "         'faster': 1,\n",
       "         'friend': 1,\n",
       "         'gentleman': 1,\n",
       "         'germany': 1,\n",
       "         'hannover': 1,\n",
       "         'hansch': 1,\n",
       "         'heinbokel': 1,\n",
       "         'hello': 1,\n",
       "         'help': 1,\n",
       "         'higher': 1,\n",
       "         'highspeed': 2,\n",
       "         'ikph': 1,\n",
       "         'interleave': 2,\n",
       "         'isa': 1,\n",
       "         'lady': 1,\n",
       "         'looking': 1,\n",
       "         'mail': 1,\n",
       "         'matthia': 1,\n",
       "         'mhz': 1,\n",
       "         'mine': 1,\n",
       "         'mode': 2,\n",
       "         'non': 1,\n",
       "         'please': 2,\n",
       "         'print': 1,\n",
       "         'rate': 3,\n",
       "         'resolution': 1,\n",
       "         'sampling': 4,\n",
       "         'send': 2,\n",
       "         'shirt': 1,\n",
       "         'similar': 1,\n",
       "         'sincerely': 1,\n",
       "         'slot': 1,\n",
       "         'specification': 1,\n",
       "         'thanks': 1,\n",
       "         'time': 2,\n",
       "         'university': 1,\n",
       "         'wisdom': 1,\n",
       "         'yield': 1})"
      ]
     },
     "execution_count": 5,
     "metadata": {},
     "output_type": "execute_result"
    }
   ],
   "source": [
    "dic"
   ]
  },
  {
   "cell_type": "code",
   "execution_count": 6,
   "metadata": {},
   "outputs": [
    {
     "name": "stdout",
     "output_type": "stream",
     "text": [
      "[('lady', 2), ('matthia', 2), ('hansch', 2), ('ikph', 2), ('hannover', 2), ('andrea', 2), ('heinbokel', 2), ('adress', 3), ('gentleman', 3), ('yield', 3), ('sincerely', 3), ('shirt', 3), ('highspeed', 4), ('interleave', 4), ('slot', 4), ('arranged', 5), ('isa', 5), ('hello', 8), ('wisdom', 8), ('print', 9), ('resolution', 13), ('converter', 15), ('germany', 18), ('specification', 19), ('directly', 22), ('sampling', 22), ('equivalent', 25), ('faster', 32), ('analog', 35), ('advance', 35), ('content', 39), ('friend', 40), ('mine', 40), ('higher', 45), ('rate', 49), ('mhz', 65), ('similar', 66), ('board', 71), ('looking', 73), ('mode', 80), ('thanks', 92), ('send', 100), ('answer', 115), ('university', 124), ('better', 129), ('digital', 130), ('non', 131), ('help', 131), ('please', 143), ('email', 150), ('mail', 249), ('available', 251), ('device', 289), ('time', 393), ('bit', 479)]\n"
     ]
    }
   ],
   "source": [
    "import nltk\n",
    "def process():\n",
    "        text = open('./science.txt', 'r').read() # 读取文本内容\n",
    "        fredist = nltk.FreqDist(text.split(' ')) # 获取单文件词频\n",
    "        for localkey in fredist.keys():\n",
    "            if localkey in dic.keys(): # 检查当前词频是否在字典中存在\n",
    "                dic[localkey] = dic[localkey] + fredist[localkey] # 如果存在，将词频累加，并更新字典值\n",
    "       \n",
    "        print(sorted(dic.items(), key = lambda  x:x[1]))\n",
    "#print(common,common[localkey])\n",
    "\n",
    "if __name__ == '__main__':\n",
    "    process()"
   ]
  },
  {
   "cell_type": "code",
   "execution_count": 7,
   "metadata": {},
   "outputs": [
    {
     "name": "stdout",
     "output_type": "stream",
     "text": [
      "[('matthia', 3), ('hansch', 3), ('ikph', 3), ('heinbokel', 3), ('hannover', 4), ('shirt', 4), ('lady', 5), ('highspeed', 6), ('gentleman', 6), ('andrea', 9), ('adress', 10), ('arranged', 12), ('yield', 12), ('sincerely', 12), ('wisdom', 22), ('sampling', 32), ('interleave', 41), ('content', 42), ('germany', 45), ('analog', 49), ('equivalent', 50), ('specification', 55), ('converter', 58), ('directly', 84), ('hello', 95), ('higher', 101), ('mine', 125), ('friend', 130), ('resolution', 137), ('print', 138), ('similar', 152), ('slot', 152), ('isa', 183), ('rate', 189), ('faster', 189), ('digital', 221), ('answer', 261), ('advance', 277), ('non', 284), ('looking', 322), ('send', 332), ('mhz', 341), ('email', 349), ('better', 388), ('board', 400), ('university', 406), ('mode', 426), ('device', 501), ('available', 625), ('help', 644), ('please', 661), ('mail', 695), ('thanks', 787), ('time', 997), ('bit', 1139)]\n"
     ]
    }
   ],
   "source": [
    "import nltk\n",
    "def process():\n",
    "        text = open('./computer.txt', 'r').read() # 读取文本内容\n",
    "        fredist = nltk.FreqDist(text.split(' ')) # 获取单文件词频\n",
    "        for localkey in fredist.keys():\n",
    "            if localkey in dic.keys(): # 检查当前词频是否在字典中存在\n",
    "                dic[localkey] = dic[localkey] + fredist[localkey] # 如果存在，将词频累加，并更新字典值\n",
    "       \n",
    "        print(sorted(dic.items(), key = lambda  x:x[1]))\n",
    "#print(common,common[localkey])\n",
    "\n",
    "if __name__ == '__main__':\n",
    "    process()"
   ]
  },
  {
   "cell_type": "code",
   "execution_count": 122,
   "metadata": {},
   "outputs": [
    {
     "name": "stdout",
     "output_type": "stream",
     "text": [
      "[('bit', 5210), ('time', 4586), ('thanks', 3840), ('mail', 3223), ('please', 3156), ('help', 3086), ('available', 2871), ('device', 2213), ('mode', 2044), ('board', 1917), ('university', 1903), ('better', 1808), ('mhz', 1637), ('email', 1592), ('send', 1554), ('looking', 1534), ('advance', 1347), ('non', 1286), ('answer', 1187), ('digital', 972)]\n"
     ]
    },
    {
     "data": {
      "image/png": "[encoded data removed]",
      "text/plain": [
       "<matplotlib.figure.Figure at 0x20cde713eb8>"
      ]
     },
     "metadata": {},
     "output_type": "display_data"
    }
   ],
   "source": [
    "counter_list = sorted(dic.items(), key=lambda x: x[1], reverse=True)\n",
    "print(counter_list[:20])\n",
    "import matplotlib.pyplot as plt\n",
    "from pylab import mpl\n",
    "mpl.rcParams['font.sans-serif'] = ['FangSong']  # 指定默认字体\n",
    "mpl.rcParams['axes.unicode_minus'] = False\n",
    "label = list(map(lambda x: x[0], counter_list[:20]))\n",
    "value = list(map(lambda y: y[1], counter_list[:20]))\n",
    "\n",
    "plt.bar(range(len(value)), value, tick_label=label)\n",
    "plt.show()"
   ]
  },
  {
   "cell_type": "code",
   "execution_count": 198,
   "metadata": {},
   "outputs": [
    {
     "data": {
      "text/plain": [
       "[('bit', 5210),\n",
       " ('time', 4586),\n",
       " ('thanks', 3840),\n",
       " ('mail', 3223),\n",
       " ('please', 3156),\n",
       " ('help', 3086),\n",
       " ('available', 2871),\n",
       " ('device', 2213),\n",
       " ('mode', 2044),\n",
       " ('board', 1917),\n",
       " ('university', 1903),\n",
       " ('better', 1808),\n",
       " ('mhz', 1637),\n",
       " ('email', 1592),\n",
       " ('send', 1554),\n",
       " ('looking', 1534),\n",
       " ('advance', 1347),\n",
       " ('non', 1286),\n",
       " ('answer', 1187),\n",
       " ('digital', 972)]"
      ]
     },
     "execution_count": 198,
     "metadata": {},
     "output_type": "execute_result"
    }
   ],
   "source": [
    "dic1 ={}\n",
    "dic1 = counter_list[:20]\n",
    "dic1\n"
   ]
  },
  {
   "cell_type": "code",
   "execution_count": 120,
   "metadata": {},
   "outputs": [
    {
     "name": "stdout",
     "output_type": "stream",
     "text": [
      "[(\"['friend\", 1), (\"shirt']\", 1), ('matthia', 10), ('hansch', 10), ('ikph', 10), ('heinbokel', 10), ('hannover', 15), ('highspeed', 20), ('lady', 20), ('gentleman', 24), ('andrea', 40), ('adress', 44), ('arranged', 52), ('yield', 54), ('sincerely', 54), ('wisdom', 99), ('sampling', 126), ('content', 168), ('interleave', 195), ('analog', 204), ('germany', 204), ('equivalent', 222), ('specification', 253), ('converter', 269), ('directly', 395), ('higher', 457), ('hello', 464), ('mine', 582), ('resolution', 669), ('print', 678), ('similar', 691), ('slot', 753), ('rate', 887), ('isa', 907), ('faster', 910), ('digital', 972), ('answer', 1187), ('non', 1286), ('advance', 1347), ('looking', 1534), ('send', 1554), ('email', 1592), ('mhz', 1637), ('better', 1808), ('university', 1903), ('board', 1917), ('mode', 2044), ('device', 2213), ('available', 2871), ('help', 3086), ('please', 3156), ('mail', 3223), ('thanks', 3840), ('time', 4586), ('bit', 5210)]\n"
     ]
    }
   ],
   "source": [
    "import nltk\n",
    "def process():\n",
    "        text = open('./science.txt', 'r').read() # 读取文本内容\n",
    "        fredist = nltk.FreqDist(text.split(' ')) # 获取单文件词频\n",
    "        for localkey in fredist.keys():\n",
    "            if localkey in dic.keys(): # 检查当前词频是否在字典中存在\n",
    "                dic[localkey] = dic[localkey] + fredist[localkey] # 如果存在，将词频累加，并更新字典值\n",
    "       \n",
    "        print(sorted(dic.items(), key = lambda  x:x[1]))\n",
    "#print(common,common[localkey])\n",
    "\n",
    "if __name__ == '__main__':\n",
    "    process()"
   ]
  },
  {
   "cell_type": "code",
   "execution_count": 181,
   "metadata": {},
   "outputs": [
    {
     "name": "stdout",
     "output_type": "stream",
     "text": [
      "[('bit', 5210), ('time', 4586), ('thanks', 3840), ('mail', 3223), ('please', 3156), ('help', 3086), ('available', 2871), ('device', 2213), ('mode', 2044), ('board', 1917), ('university', 1903), ('better', 1808), ('mhz', 1637), ('email', 1592), ('send', 1554), ('looking', 1534), ('advance', 1347), ('non', 1286), ('answer', 1187), ('digital', 972)]\n"
     ]
    },
    {
     "data": {
      "image/png": "[encoded data removed]",
      "text/plain": [
       "<matplotlib.figure.Figure at 0x20cde9110b8>"
      ]
     },
     "metadata": {},
     "output_type": "display_data"
    }
   ],
   "source": [
    "counter_list2 = sorted(dic.items(), key=lambda x: x[1], reverse=True)\n",
    "print(counter_list2[:20])\n",
    "\n",
    "import matplotlib.pyplot as plt\n",
    "from pylab import mpl\n",
    "mpl.rcParams['font.sans-serif'] = ['FangSong']  # 指定默认字体\n",
    "mpl.rcParams['axes.unicode_minus'] = False\n",
    "label = list(map(lambda x: x[0], counter_list[:20]))\n",
    "value = list(map(lambda y: y[1], counter_list[:20]))\n",
    "\n",
    "plt.bar(range(len(value)), value, tick_label=label)\n",
    "plt.show()"
   ]
  },
  {
   "cell_type": "code",
   "execution_count": 183,
   "metadata": {
    "collapsed": true
   },
   "outputs": [],
   "source": [
    "dic2 = {}"
   ]
  },
  {
   "cell_type": "code",
   "execution_count": 184,
   "metadata": {
    "collapsed": true
   },
   "outputs": [],
   "source": [
    "dic2 = counter_list2[:20]"
   ]
  },
  {
   "cell_type": "code",
   "execution_count": 185,
   "metadata": {},
   "outputs": [
    {
     "data": {
      "text/plain": [
       "[('bit', 5210),\n",
       " ('time', 4586),\n",
       " ('thanks', 3840),\n",
       " ('mail', 3223),\n",
       " ('please', 3156),\n",
       " ('help', 3086),\n",
       " ('available', 2871),\n",
       " ('device', 2213),\n",
       " ('mode', 2044),\n",
       " ('board', 1917),\n",
       " ('university', 1903),\n",
       " ('better', 1808),\n",
       " ('mhz', 1637),\n",
       " ('email', 1592),\n",
       " ('send', 1554),\n",
       " ('looking', 1534),\n",
       " ('advance', 1347),\n",
       " ('non', 1286),\n",
       " ('answer', 1187),\n",
       " ('digital', 972)]"
      ]
     },
     "execution_count": 185,
     "metadata": {},
     "output_type": "execute_result"
    }
   ],
   "source": [
    "dic2"
   ]
  },
  {
   "cell_type": "code",
   "execution_count": 193,
   "metadata": {},
   "outputs": [
    {
     "data": {
      "text/plain": [
       "46966"
      ]
     },
     "execution_count": 193,
     "metadata": {},
     "output_type": "execute_result"
    }
   ],
   "source": [
    "sum(value)"
   ]
  },
  {
   "cell_type": "code",
   "execution_count": null,
   "metadata": {
    "collapsed": true
   },
   "outputs": [],
   "source": []
  },
  {
   "cell_type": "code",
   "execution_count": 162,
   "metadata": {},
   "outputs": [
    {
     "data": {
      "text/plain": [
       "972"
      ]
     },
     "execution_count": 162,
     "metadata": {},
     "output_type": "execute_result"
    }
   ],
   "source": [
    "for key in "
   ]
  },
  {
   "cell_type": "code",
   "execution_count": null,
   "metadata": {
    "collapsed": true
   },
   "outputs": [],
   "source": []
  },
  {
   "cell_type": "code",
   "execution_count": null,
   "metadata": {
    "collapsed": true
   },
   "outputs": [],
   "source": []
  },
  {
   "cell_type": "code",
   "execution_count": null,
   "metadata": {
    "collapsed": true
   },
   "outputs": [],
   "source": []
  },
  {
   "cell_type": "code",
   "execution_count": 145,
   "metadata": {
    "collapsed": true
   },
   "outputs": [],
   "source": [
    "dic2 = get_words('science.txt')"
   ]
  },
  {
   "cell_type": "code",
   "execution_count": null,
   "metadata": {
    "collapsed": true
   },
   "outputs": [],
   "source": []
  },
  {
   "cell_type": "code",
   "execution_count": 55,
   "metadata": {},
   "outputs": [
    {
     "ename": "AttributeError",
     "evalue": "'list' object has no attribute 'keys'",
     "output_type": "error",
     "traceback": [
      "\u001b[1;31m---------------------------------------------------------------------------\u001b[0m",
      "\u001b[1;31mAttributeError\u001b[0m                            Traceback (most recent call last)",
      "\u001b[1;32m<ipython-input-55-121a766c9a1e>\u001b[0m in \u001b[0;36m<module>\u001b[1;34m()\u001b[0m\n\u001b[0;32m     11\u001b[0m \u001b[1;33m\u001b[0m\u001b[0m\n\u001b[0;32m     12\u001b[0m \u001b[1;32mif\u001b[0m \u001b[0m__name__\u001b[0m \u001b[1;33m==\u001b[0m \u001b[1;34m'__main__'\u001b[0m\u001b[1;33m:\u001b[0m\u001b[1;33m\u001b[0m\u001b[0m\n\u001b[1;32m---> 13\u001b[1;33m     \u001b[0mprocess\u001b[0m\u001b[1;33m(\u001b[0m\u001b[1;33m)\u001b[0m\u001b[1;33m\u001b[0m\u001b[0m\n\u001b[0m",
      "\u001b[1;32m<ipython-input-55-121a766c9a1e>\u001b[0m in \u001b[0;36mprocess\u001b[1;34m()\u001b[0m\n\u001b[0;32m      4\u001b[0m         \u001b[0mfredist\u001b[0m \u001b[1;33m=\u001b[0m \u001b[0mnltk\u001b[0m\u001b[1;33m.\u001b[0m\u001b[0mFreqDist\u001b[0m\u001b[1;33m(\u001b[0m\u001b[0mtext\u001b[0m\u001b[1;33m.\u001b[0m\u001b[0msplit\u001b[0m\u001b[1;33m(\u001b[0m\u001b[1;34m' '\u001b[0m\u001b[1;33m)\u001b[0m\u001b[1;33m)\u001b[0m \u001b[1;31m# 获取单文件词频\u001b[0m\u001b[1;33m\u001b[0m\u001b[0m\n\u001b[0;32m      5\u001b[0m         \u001b[1;32mfor\u001b[0m \u001b[0mlocalkey\u001b[0m \u001b[1;32min\u001b[0m \u001b[0mfredist\u001b[0m\u001b[1;33m.\u001b[0m\u001b[0mkeys\u001b[0m\u001b[1;33m(\u001b[0m\u001b[1;33m)\u001b[0m\u001b[1;33m:\u001b[0m\u001b[1;33m\u001b[0m\u001b[0m\n\u001b[1;32m----> 6\u001b[1;33m             \u001b[1;32mif\u001b[0m \u001b[0mlocalkey\u001b[0m \u001b[1;32min\u001b[0m \u001b[0mcommon\u001b[0m\u001b[1;33m.\u001b[0m\u001b[0mkeys\u001b[0m\u001b[1;33m(\u001b[0m\u001b[1;33m)\u001b[0m\u001b[1;33m:\u001b[0m \u001b[1;31m# 检查当前词频是否在字典中存在\u001b[0m\u001b[1;33m\u001b[0m\u001b[0m\n\u001b[0m\u001b[0;32m      7\u001b[0m                 \u001b[0mcommon\u001b[0m\u001b[1;33m[\u001b[0m\u001b[0mlocalkey\u001b[0m\u001b[1;33m]\u001b[0m \u001b[1;33m=\u001b[0m \u001b[0mcommon\u001b[0m\u001b[1;33m[\u001b[0m\u001b[0mlocalkey\u001b[0m\u001b[1;33m]\u001b[0m \u001b[1;33m+\u001b[0m \u001b[0mfredist\u001b[0m\u001b[1;33m[\u001b[0m\u001b[0mlocalkey\u001b[0m\u001b[1;33m]\u001b[0m \u001b[1;31m# 如果存在，将词频累加，并更新字典值\u001b[0m\u001b[1;33m\u001b[0m\u001b[0m\n\u001b[0;32m      8\u001b[0m         \u001b[0mprint\u001b[0m\u001b[1;33m(\u001b[0m\u001b[1;34m'--> 重复值：'\u001b[0m\u001b[1;33m,\u001b[0m \u001b[0mlocalkey\u001b[0m\u001b[1;33m,\u001b[0m \u001b[0mdictionary\u001b[0m\u001b[1;33m[\u001b[0m\u001b[0mlocalkey\u001b[0m\u001b[1;33m]\u001b[0m\u001b[1;33m)\u001b[0m\u001b[1;33m\u001b[0m\u001b[0m\n",
      "\u001b[1;31mAttributeError\u001b[0m: 'list' object has no attribute 'keys'"
     ]
    }
   ],
   "source": [
    "import nltk\n",
    "def process():\n",
    "        text = open('./computer.txt', 'r').read() # 读取文本内容\n",
    "        fredist = nltk.FreqDist(text.split(' ')) # 获取单文件词频\n",
    "        for localkey in fredist.keys():\n",
    "            if localkey in common.keys(): # 检查当前词频是否在字典中存在\n",
    "                common[localkey] = common[localkey] + fredist[localkey] # 如果存在，将词频累加，并更新字典值\n",
    "        print('--> 重复值：', localkey, dictionary[localkey])\n",
    "#print(sorted(common.items(), key = lambda  x:x[1]))\n",
    "#print(common,common[localkey])\n",
    "\n",
    "if __name__ == '__main__':\n",
    "    process()"
   ]
  },
  {
   "cell_type": "code",
   "execution_count": null,
   "metadata": {
    "collapsed": true
   },
   "outputs": [],
   "source": []
  },
  {
   "cell_type": "code",
   "execution_count": null,
   "metadata": {
    "collapsed": true
   },
   "outputs": [],
   "source": []
  },
  {
   "cell_type": "code",
   "execution_count": 66,
   "metadata": {},
   "outputs": [
    {
     "name": "stdout",
     "output_type": "stream",
     "text": [
      "[]\n"
     ]
    }
   ],
   "source": [
    "import nltk\n",
    "dictionary = {}\n",
    "def process():\n",
    "        text = open('./computer.txt', 'r').read() # 读取文本内容\n",
    "        fredist = nltk.FreqDist(text.split(' ')) # 获取单文件词频\n",
    "\n",
    "        for localkey in fredist.keys(): # 所有词频合并。 如果存在词频相加，否则添加\n",
    "            if localkey in dictionary.keys(): # 检查当前词频是否在字典中存在\n",
    "                dictionary[localkey] = dictionary[localkey] + fredist[localkey] # 如果存在，将词频累加，并更新字典值\n",
    "                print('--> 重复值：', localkey, dictionary[localkey])\n",
    "print(sorted(dictionary.items(), key = lambda  x:x[1])) # 根据词频字典值排序，并打印\n",
    "\n",
    "if __name__ == '__main__':\n",
    "    process()"
   ]
  },
  {
   "cell_type": "code",
   "execution_count": 68,
   "metadata": {},
   "outputs": [
    {
     "ename": "SyntaxError",
     "evalue": "invalid syntax (<ipython-input-68-631d5e0fec0b>, line 1)",
     "output_type": "error",
     "traceback": [
      "\u001b[1;36m  File \u001b[1;32m\"<ipython-input-68-631d5e0fec0b>\"\u001b[1;36m, line \u001b[1;32m1\u001b[0m\n\u001b[1;33m    dictionary{}\u001b[0m\n\u001b[1;37m              ^\u001b[0m\n\u001b[1;31mSyntaxError\u001b[0m\u001b[1;31m:\u001b[0m invalid syntax\n"
     ]
    }
   ],
   "source": [
    "dictionary"
   ]
  },
  {
   "cell_type": "code",
   "execution_count": null,
   "metadata": {
    "collapsed": true
   },
   "outputs": [],
   "source": []
  }
 ],
 "metadata": {
  "kernelspec": {
   "display_name": "Python 3",
   "language": "python",
   "name": "python3"
  },
  "language_info": {
   "codemirror_mode": {
    "name": "ipython",
    "version": 3
   },
   "file_extension": ".py",
   "mimetype": "text/x-python",
   "name": "python",
   "nbconvert_exporter": "python",
   "pygments_lexer": "ipython3",
   "version": "3.6.1"
  }
 },
 "nbformat": 4,
 "nbformat_minor": 2
}
